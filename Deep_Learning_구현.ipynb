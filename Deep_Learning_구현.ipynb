{
  "nbformat": 4,
  "nbformat_minor": 0,
  "metadata": {
    "colab": {
      "provenance": [],
      "authorship_tag": "ABX9TyNBH+3HUedS13nk7XP0bs1D",
      "include_colab_link": true
    },
    "kernelspec": {
      "name": "python3",
      "display_name": "Python 3"
    },
    "language_info": {
      "name": "python"
    }
  },
  "cells": [
    {
      "cell_type": "markdown",
      "metadata": {
        "id": "view-in-github",
        "colab_type": "text"
      },
      "source": [
        "<a href=\"https://colab.research.google.com/github/Birmjune/Machine-Learning/blob/main/Deep_Learning_%EA%B5%AC%ED%98%84.ipynb\" target=\"_parent\"><img src=\"https://colab.research.google.com/assets/colab-badge.svg\" alt=\"Open In Colab\"/></a>"
      ]
    },
    {
      "cell_type": "code",
      "source": [
        "#딥러닝구현\n",
        "import math\n",
        "import random\n",
        "\n",
        "a = random.uniform(-1,1)\n",
        "b = random.uniform(-1,1)\n",
        "c = random.uniform(-1,1)\n",
        "d = random.uniform(-1,1)\n",
        "e = random.uniform(-1,1)\n",
        "f = random.uniform(-1,1)\n",
        "g = random.uniform(-1,1)\n",
        "h = random.uniform(-1,1)\n",
        "i = random.uniform(-1,1)\n",
        "\n",
        "eta = 0.00001\n",
        "\n",
        "def sigmoid(x):\n",
        "    return 1.0/(1.0+math.exp(-x))\n",
        "\n",
        "data=[(5,10),(7,18),(10,8),(15,15),(20,3),(23,12)]\n",
        "labels=[-1,-1,+1,+1,-1,-1]\n",
        "\n",
        "for counter in range(1000000):\n",
        "    da=db=dc=dd=de=df=dg=dh=di=0.0\n",
        "    for idx in range(len(data)):\n",
        "        x=float(data[idx][0])\n",
        "        y=float(data[idx][1])\n",
        "        \n",
        "        z1=a*x+b*y+c\n",
        "        X=sigmoid(z1)\n",
        "        \n",
        "        z2=d*x+e*y+f\n",
        "        Y=sigmoid(z2)\n",
        "        \n",
        "        z=g*X+h*Y+i\n",
        "        Z=labels[idx]\n",
        "        \n",
        "        dz=2*(z-Z)\n",
        "        dz1=dz*g*sigmoid(z1)*(1.0-sigmoid(z1))\n",
        "        dz2=dz*h*sigmoid(z2)*(1.0-sigmoid(z2))\n",
        "        da+=dz1*x\n",
        "        db+=dz1*y\n",
        "        dc+=dz1\n",
        "        dd+=dz2*x\n",
        "        de+=dz2*y\n",
        "        df+=dz2\n",
        "        dg+=dz*X\n",
        "        dh+=dz*Y\n",
        "        di+=dz\n",
        "\n",
        "    a=a-eta*da\n",
        "    b=b-eta*db\n",
        "    c=c-eta*dc\n",
        "    d=d-eta*dd\n",
        "    e=e-eta*de\n",
        "    f=f-eta*df\n",
        "    g=g-eta*dg\n",
        "    h=h-eta*dh\n",
        "    i=i-eta*di\n",
        "    \n",
        "print(\"a=%lf; b=%lf; c=%lf; d=%lf; e=%lf; f=%lf; g=%lf; h=%lf; i=%lf\" % (a,b,c,d,e,f,g,h,i)) "
      ],
      "metadata": {
        "id": "bTC9an3NpJbD"
      },
      "execution_count": null,
      "outputs": []
    },
    {
      "cell_type": "code",
      "source": [
        "#값 예측\n",
        "for idx in range(len(data)):\n",
        "  x = data[idx][0]\n",
        "  y=data[idx][1]\n",
        "  print(g*sigmoid(a*x+b*y+c)+h*sigmoid(d*x+e*y+f)+i)"
      ],
      "metadata": {
        "id": "YADfPF81j-LW"
      },
      "execution_count": null,
      "outputs": []
    },
    {
      "cell_type": "code",
      "source": [],
      "metadata": {
        "id": "C_RTG1eXluZC"
      },
      "execution_count": null,
      "outputs": []
    }
  ]
}