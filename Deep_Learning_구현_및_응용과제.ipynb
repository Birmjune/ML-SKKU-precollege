{
  "nbformat": 4,
  "nbformat_minor": 0,
  "metadata": {
    "colab": {
      "provenance": [],
      "authorship_tag": "ABX9TyNKsqOy+nQ4XpHD/FzxP9yI",
      "include_colab_link": true
    },
    "kernelspec": {
      "name": "python3",
      "display_name": "Python 3"
    },
    "language_info": {
      "name": "python"
    }
  },
  "cells": [
    {
      "cell_type": "markdown",
      "metadata": {
        "id": "view-in-github",
        "colab_type": "text"
      },
      "source": [
        "<a href=\"https://colab.research.google.com/github/Birmjune/Machine-Learning/blob/main/Deep_Learning_%EA%B5%AC%ED%98%84_%EB%B0%8F_%EC%9D%91%EC%9A%A9%EA%B3%BC%EC%A0%9C.ipynb\" target=\"_parent\"><img src=\"https://colab.research.google.com/assets/colab-badge.svg\" alt=\"Open In Colab\"/></a>"
      ]
    },
    {
      "cell_type": "code",
      "source": [
        "#딥러닝구현\n",
        "import math\n",
        "import random\n",
        "\n",
        "a = random.uniform(-1,1)\n",
        "b = random.uniform(-1,1)\n",
        "c = random.uniform(-1,1)\n",
        "d = random.uniform(-1,1)\n",
        "e = random.uniform(-1,1)\n",
        "f = random.uniform(-1,1)\n",
        "g = random.uniform(-1,1)\n",
        "h = random.uniform(-1,1)\n",
        "i = random.uniform(-1,1)\n",
        "\n",
        "eta = 0.00001\n",
        "\n",
        "def sigmoid(x):\n",
        "    return 1.0/(1.0+math.exp(-x))\n",
        "\n",
        "data=[(5,10),(7,18),(10,8),(15,15),(20,3),(23,12)]\n",
        "labels=[-1,-1,+1,+1,-1,-1]\n",
        "\n",
        "for counter in range(1000000):\n",
        "    da=db=dc=dd=de=df=dg=dh=di=0.0\n",
        "    for idx in range(len(data)):\n",
        "        x=float(data[idx][0])\n",
        "        y=float(data[idx][1])\n",
        "        \n",
        "        z1=a*x+b*y+c\n",
        "        X=sigmoid(z1)\n",
        "        \n",
        "        z2=d*x+e*y+f\n",
        "        Y=sigmoid(z2)\n",
        "        \n",
        "        z=g*X+h*Y+i\n",
        "        Z=labels[idx]\n",
        "        \n",
        "        dz=2*(z-Z)\n",
        "        dz1=dz*g*sigmoid(z1)*(1.0-sigmoid(z1))\n",
        "        dz2=dz*h*sigmoid(z2)*(1.0-sigmoid(z2))\n",
        "        da+=dz1*x\n",
        "        db+=dz1*y\n",
        "        dc+=dz1\n",
        "        dd+=dz2*x\n",
        "        de+=dz2*y\n",
        "        df+=dz2\n",
        "        dg+=dz*X\n",
        "        dh+=dz*Y\n",
        "        di+=dz\n",
        "\n",
        "    a=a-eta*da\n",
        "    b=b-eta*db\n",
        "    c=c-eta*dc\n",
        "    d=d-eta*dd\n",
        "    e=e-eta*de\n",
        "    f=f-eta*df\n",
        "    g=g-eta*dg\n",
        "    h=h-eta*dh\n",
        "    i=i-eta*di\n",
        "    \n",
        "print(\"a=%lf; b=%lf; c=%lf; d=%lf; e=%lf; f=%lf; g=%lf; h=%lf; i=%lf\" % (a,b,c,d,e,f,g,h,i)) "
      ],
      "metadata": {
        "colab": {
          "base_uri": "https://localhost:8080/"
        },
        "id": "bTC9an3NpJbD",
        "outputId": "2326e92b-21c6-42d8-c0cf-a1447a2edd20"
      },
      "execution_count": 62,
      "outputs": [
        {
          "output_type": "stream",
          "name": "stdout",
          "text": [
            "a=1.124074; b=-0.900663; c=-0.161480; d=1.155997; e=-1.843779; f=-0.332664; g=2.104945; h=-2.091572; i=-1.023888\n"
          ]
        }
      ]
    },
    {
      "cell_type": "code",
      "source": [
        "#값 예측\n",
        "for idx in range(len(data)):\n",
        "  x = data[idx][0]\n",
        "  y=data[idx][1]\n",
        "  print(g*sigmoid(a*x+b*y+c)+h*sigmoid(d*x+e*y+f)+i)"
      ],
      "metadata": {
        "colab": {
          "base_uri": "https://localhost:8080/"
        },
        "id": "YADfPF81j-LW",
        "outputId": "1a8c329d-d1ae-418a-bd1d-25d72609463f"
      },
      "execution_count": 63,
      "outputs": [
        {
          "output_type": "stream",
          "name": "stdout",
          "text": [
            "-0.964987989016756\n",
            "-1.02346159332943\n",
            "0.9782561475260856\n",
            "0.9977446238504499\n",
            "-1.0105145999871463\n",
            "-0.9774066723432768\n"
          ]
        }
      ]
    },
    {
      "cell_type": "code",
      "source": [
        "#딥러닝구현 (활성함수를 tanh으로 바꾼경우)\n",
        "import math\n",
        "import random\n",
        "import numpy as np\n",
        "\n",
        "a = random.uniform(-1,1)\n",
        "b = random.uniform(-1,1)\n",
        "c = random.uniform(-1,1)\n",
        "d = random.uniform(-1,1)\n",
        "e = random.uniform(-1,1)\n",
        "f = random.uniform(-1,1)\n",
        "g = random.uniform(-1,1)\n",
        "h = random.uniform(-1,1)\n",
        "i = random.uniform(-1,1)\n",
        "\n",
        "eta = 0.00001\n",
        "\n",
        "def tanh(x):\n",
        "    return (math.exp(x)-math.exp(-x))/(math.exp(x)+math.exp(-x))\n",
        "\n",
        "\n",
        "data=[(5,10),(7,18),(10,8),(15,15),(20,3),(23,12)]\n",
        "labels=[-1,-1,+1,+1,-1,-1]\n",
        "\n",
        "for counter in range(1000000):\n",
        "    da=db=dc=dd=de=df=dg=dh=di=0.0\n",
        "    for idx in range(len(data)):\n",
        "        x=float(data[idx][0])\n",
        "        y=float(data[idx][1])\n",
        "        \n",
        "        z1=a*x+b*y+c\n",
        "        X=tanh(z1)\n",
        "        \n",
        "        z2=d*x+e*y+f\n",
        "        Y=tanh(z2)\n",
        "        \n",
        "        z=g*X+h*Y+i\n",
        "        Z=labels[idx]\n",
        "        \n",
        "        dz=2*(z-Z)\n",
        "        dz1=dz*g*(1-tanh(z1)**2)\n",
        "        dz2=dz*h*(1-tanh(z2)**2)\n",
        "        da+=dz1*x\n",
        "        db+=dz1*y\n",
        "        dc+=dz1\n",
        "        dd+=dz2*x\n",
        "        de+=dz2*y\n",
        "        df+=dz2\n",
        "        dg+=dz*X\n",
        "        dh+=dz*Y\n",
        "        di+=dz\n",
        "\n",
        "    a=a-eta*da\n",
        "    b=b-eta*db\n",
        "    c=c-eta*dc\n",
        "    d=d-eta*dd\n",
        "    e=e-eta*de\n",
        "    f=f-eta*df\n",
        "    g=g-eta*dg\n",
        "    h=h-eta*dh\n",
        "    i=i-eta*di\n",
        "    \n",
        "print(\"a=%lf; b=%lf; c=%lf; d=%lf; e=%lf; f=%lf; g=%lf; h=%lf; i=%lf\" % (a,b,c,d,e,f,g,h,i)) "
      ],
      "metadata": {
        "colab": {
          "base_uri": "https://localhost:8080/"
        },
        "id": "C_RTG1eXluZC",
        "outputId": "739f8baf-42be-44e9-c515-57cdaacb491e"
      },
      "execution_count": 159,
      "outputs": [
        {
          "output_type": "stream",
          "name": "stdout",
          "text": [
            "a=-0.738726; b=1.116918; c=0.652452; d=0.576188; e=-0.449787; f=-0.344262; g=1.043464; h=1.052158; i=-1.011556\n"
          ]
        }
      ]
    },
    {
      "cell_type": "code",
      "source": [
        "#값 예측\n",
        "for idx in range(len(data)):\n",
        "  x = data[idx][0]\n",
        "  y=data[idx][1]\n",
        "  print(g*tanh(a*x+b*y+c)+h*tanh(d*x+e*y+f)+i)"
      ],
      "metadata": {
        "colab": {
          "base_uri": "https://localhost:8080/"
        },
        "id": "xr7zqnu2Ezwy",
        "outputId": "e745e8d5-f56f-4dc2-c433-6afbac28ae78"
      },
      "execution_count": 160,
      "outputs": [
        {
          "output_type": "stream",
          "name": "stdout",
          "text": [
            "-0.9794069191693513\n",
            "-1.0199381027102616\n",
            "1.0048797018927165\n",
            "0.9936513879380702\n",
            "-1.0028621792690002\n",
            "-0.9969908952238029\n"
          ]
        }
      ]
    },
    {
      "cell_type": "code",
      "source": [],
      "metadata": {
        "id": "gYrZgJ8DHnFG"
      },
      "execution_count": 128,
      "outputs": []
    }
  ]
}